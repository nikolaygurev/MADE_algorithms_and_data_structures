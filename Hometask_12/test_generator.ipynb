{
 "cells": [
  {
   "cell_type": "code",
   "execution_count": 1,
   "metadata": {},
   "outputs": [],
   "source": [
    "import numpy as np"
   ]
  },
  {
   "cell_type": "code",
   "execution_count": 2,
   "metadata": {},
   "outputs": [
    {
     "name": "stdout",
     "output_type": "stream",
     "text": [
      "18255\n"
     ]
    }
   ],
   "source": [
    "V = 4000\n",
    "\n",
    "vertices = set(range(1, V + 1))\n",
    "edges = []\n",
    "\n",
    "while(vertices):\n",
    "    from_, to_ = np.random.randint(1, V + 1, size=2)\n",
    "    edges.append((from_, to_))\n",
    "    \n",
    "    vertices.discard(from_)\n",
    "    vertices.discard(to_)\n",
    "\n",
    "print(len(edges))"
   ]
  },
  {
   "cell_type": "code",
   "execution_count": 3,
   "metadata": {},
   "outputs": [],
   "source": [
    "with open(\"test_bridges.in\", \"w\") as fout:    \n",
    "    fout.write(f\"{V} {len(edges)}\\n\")\n",
    "    \n",
    "    for (from_, to_) in edges:\n",
    "        fout.write(f\"{from_} {to_}\\n\")"
   ]
  }
 ],
 "metadata": {
  "kernelspec": {
   "display_name": "Python 3",
   "language": "python",
   "name": "python3"
  },
  "language_info": {
   "codemirror_mode": {
    "name": "ipython",
    "version": 3
   },
   "file_extension": ".py",
   "mimetype": "text/x-python",
   "name": "python",
   "nbconvert_exporter": "python",
   "pygments_lexer": "ipython3",
   "version": "3.8.1"
  }
 },
 "nbformat": 4,
 "nbformat_minor": 2
}
